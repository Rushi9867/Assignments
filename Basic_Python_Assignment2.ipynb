{
 "cells": [
  {
   "cell_type": "markdown",
   "metadata": {},
   "source": [
    "## 1.What are the two values of the Boolean data type? How do you write them?\n",
    "* Ans: In Pyhton True or False is the two values of the Boolean data type.\n",
    "eg: 5 == 5 is True and 6 == 7 is False "
   ]
  },
  {
   "cell_type": "code",
   "execution_count": null,
   "metadata": {},
   "outputs": [
    {
     "name": "stdout",
     "output_type": "stream",
     "text": [
      "True\n",
      "False\n",
      "<class 'bool'>\n",
      "<class 'bool'>\n"
     ]
    }
   ],
   "source": [
    "print(5 == 5)\n",
    "print(6 == 7)\n",
    "a = True\n",
    "print(type(a))\n",
    "b = False\n",
    "print(type(b))"
   ]
  },
  {
   "cell_type": "markdown",
   "metadata": {},
   "source": [
    "## 2. What are the three different types of Boolean operators?\n",
    "* Ans: Boolean operators are those that take Boolean inputs and return Boolean results.\n",
    "1.  not Boolean Operator : The only boolean operator with one argument is not. it takes one argument and returns the opposite result: \n",
    "* False for True \n",
    "* True for False.\n",
    "\n",
    "2. and Boolean Operator: The and operator takes two arguments .It evaluates to False unless both inputs are True. \n",
    "* True and True   = True\n",
    "* True and False  = False\n",
    "* Flase and False = False\n",
    "* False and True  = False\n",
    "\n",
    "3. or Boolean Operator : The value of the or Operator is True unless both of its inputs are False.\n",
    "* False or False = False\n",
    "* False or True  = True\n",
    "* True or False  = True\n",
    "* True or False  = True"
   ]
  },
  {
   "cell_type": "code",
   "execution_count": null,
   "metadata": {},
   "outputs": [
    {
     "name": "stdout",
     "output_type": "stream",
     "text": [
      "False\n",
      "True\n",
      "False\n"
     ]
    }
   ],
   "source": [
    "a = 100\n",
    "print(not(a>10)) # not operator\n",
    "b = 200\n",
    "print(a>28 and b < 250) # and operator\n",
    "print(a > 300 or b < 100 ) # or operator"
   ]
  },
  {
   "cell_type": "markdown",
   "metadata": {},
   "source": [
    "## 3. Make a list of each Boolean operator's truth tables (i.e. every possible combination of Boolean values for the operator and what it evaluate ).\n",
    "* Ans: Boolean operator's Truth tables\n",
    "1. not Truth Table\n",
    "* False for True \n",
    "* True for False.\n",
    "\n",
    "2. and Trurh Table\n",
    "* True and True   = True\n",
    "* True and False  = False\n",
    "* Flase and False = False\n",
    "* False and True  = False\n",
    "\n",
    "3. Or Truth Table\n",
    "* False or False = False\n",
    "* False or True  = True\n",
    "* True or False  = True\n",
    "* True or False  = True"
   ]
  },
  {
   "cell_type": "markdown",
   "metadata": {},
   "source": [
    "4. What are the values of the following expressions?\n",
    "* (5 > 4) and (3 == 5)\n",
    "* not (5 > 4)\n",
    "* (5 > 4) or (3 == 5)\n",
    "* not ((5 > 4) or (3 == 5))\n",
    "* (True and True) and (True == False)\n",
    "* (not False) or (not True)"
   ]
  },
  {
   "cell_type": "code",
   "execution_count": null,
   "metadata": {},
   "outputs": [
    {
     "name": "stdout",
     "output_type": "stream",
     "text": [
      "False\n",
      "False\n",
      "True\n",
      "False\n",
      "False\n",
      "True\n"
     ]
    }
   ],
   "source": [
    "print((5 > 4) and (3 == 5))\n",
    "print(not (5 > 4))\n",
    "print((5 > 4) or (3 == 5))\n",
    "print(not ((5 > 4) or (3 == 5)))\n",
    "print((True and True) and (True == False))\n",
    "print((not False) or (not True))"
   ]
  },
  {
   "cell_type": "markdown",
   "metadata": {},
   "source": [
    "## 5. What are the six comparison operators?\n",
    "* Ans: In Python Comparison operators are used to compare two values:\n",
    "1. == Equal                     x == y\n",
    "2. != Not Equal                 x != y \n",
    "3. '>' Greater Than               x > y\n",
    "4. < Less than                  x < y\n",
    "5. '>=' Greater than or equal to  x >= y\n",
    "6. <= Less than or Equal to     x <= y"
   ]
  },
  {
   "cell_type": "code",
   "execution_count": null,
   "metadata": {},
   "outputs": [
    {
     "name": "stdout",
     "output_type": "stream",
     "text": [
      "False\n",
      "True\n",
      "True\n",
      "False\n",
      "True\n",
      "False\n"
     ]
    }
   ],
   "source": [
    "x = 78\n",
    "y = 56\n",
    "print(x == y)\n",
    "print( x != y)\n",
    "print(x > y)\n",
    "print(x < y)\n",
    "print(x >= y)\n",
    "print(x <= y)"
   ]
  },
  {
   "cell_type": "markdown",
   "metadata": {},
   "source": [
    "## 6. How do you tell the difference between the equal to and assignment operators?Describe a condition and when you would use one.\n",
    "* Ans: \n",
    "1. Equal (=): It is used for assigning the value to a variable\n",
    "eg: x = 45\n",
    "2. Assignment(==): It is used for comparing two values.it returns 1 if both the values are equal otherwise returns 0."
   ]
  },
  {
   "cell_type": "code",
   "execution_count": null,
   "metadata": {},
   "outputs": [
    {
     "name": "stdout",
     "output_type": "stream",
     "text": [
      "100\n",
      "True\n"
     ]
    }
   ],
   "source": [
    "x = 100\n",
    "print(x)\n",
    "print(x == x)"
   ]
  },
  {
   "cell_type": "markdown",
   "metadata": {},
   "source": [
    "7. Identify the three blocks in this code:\n",
    "* spam = 0\n",
    "* if spam == 10:\n",
    "*    print('eggs')\n",
    "* if spam > 5:\n",
    "*     print('bacon')\n",
    "* else:\n",
    "*    print('ham')\n",
    "*    print('spam')\n",
    "*    print('spam')"
   ]
  },
  {
   "cell_type": "code",
   "execution_count": null,
   "metadata": {},
   "outputs": [
    {
     "name": "stdout",
     "output_type": "stream",
     "text": [
      "ham\n",
      "spam\n",
      "spam\n"
     ]
    }
   ],
   "source": [
    "spam = 0\n",
    "if spam == 10:\n",
    "    print('eggs')\n",
    "if spam > 5:\n",
    "    print('bacon')\n",
    "else:\n",
    "    print('ham')\n",
    "    print('spam')\n",
    "    print('spam')"
   ]
  },
  {
   "cell_type": "markdown",
   "metadata": {},
   "source": [
    "## 8. Write code that prints Hello if 1 is stored in spam, prints Howdy if 2 is stored in spam, and prints Greetings! if anything else is stored in spam."
   ]
  },
  {
   "cell_type": "code",
   "execution_count": null,
   "metadata": {},
   "outputs": [
    {
     "name": "stdout",
     "output_type": "stream",
     "text": [
      "Hello\n",
      "Howdy\n",
      "Greetings\n"
     ]
    }
   ],
   "source": [
    "def Spam(spam):\n",
    "    if spam == 1:\n",
    "        print('Hello')\n",
    "    elif spam == 2:\n",
    "        print('Howdy')\n",
    "    else:\n",
    "        print('Greetings')\n",
    "\n",
    "Spam(1)\n",
    "Spam(2)\n",
    "Spam(56)"
   ]
  },
  {
   "cell_type": "markdown",
   "metadata": {},
   "source": [
    "## 9.If your programme is stuck in an endless loop, what keys you’ll press?\n",
    "* Ans : To stop a program stuck in an infinite loop,we press Ctrl+c"
   ]
  },
  {
   "cell_type": "markdown",
   "metadata": {},
   "source": [
    "## 10. How can you tell the difference between break and continue?\n",
    "* Ans: The break statement will move the execution outside the loop if break condtion is satisfied whereas the continue statement will move the execution to the start of the loop."
   ]
  },
  {
   "cell_type": "code",
   "execution_count": null,
   "metadata": {},
   "outputs": [
    {
     "name": "stdout",
     "output_type": "stream",
     "text": [
      "0\n",
      "1\n",
      "2\n",
      "3\n"
     ]
    }
   ],
   "source": [
    "i = 0\n",
    "while i<=5:\n",
    "    if i == 4:\n",
    "        break\n",
    "    print(i)\n",
    "    i+=1"
   ]
  },
  {
   "cell_type": "code",
   "execution_count": null,
   "metadata": {},
   "outputs": [
    {
     "name": "stdout",
     "output_type": "stream",
     "text": [
      "0\n",
      "1\n",
      "2\n",
      "3\n",
      "5\n",
      "6\n"
     ]
    }
   ],
   "source": [
    "for i in range(7):\n",
    "    if i == 4:\n",
    "        continue\n",
    "    print(i)"
   ]
  },
  {
   "cell_type": "markdown",
   "metadata": {},
   "source": [
    "## 11. In a for loop, what is the difference between range(10), range(0, 10), and range(0, 10, 1)?\n",
    "* Ans \n",
    "1. range(10)    : The range from 0 to 9 \n",
    "2. range(0,10)  : Explicitly tells the loop to start at 0\n",
    "3. range(0,10,1): Explicitly tells the loop to increase the variable by 1 on each iteration"
   ]
  },
  {
   "cell_type": "code",
   "execution_count": null,
   "metadata": {},
   "outputs": [
    {
     "name": "stdout",
     "output_type": "stream",
     "text": [
      "0 1 2 3 4 5 6 7 8 9 "
     ]
    }
   ],
   "source": [
    "for i in range(10):\n",
    "    print(i,end=\" \")"
   ]
  },
  {
   "cell_type": "code",
   "execution_count": null,
   "metadata": {},
   "outputs": [
    {
     "name": "stdout",
     "output_type": "stream",
     "text": [
      "0 1 3 6 10 15 21 28 36 45 "
     ]
    }
   ],
   "source": [
    "n = 0\n",
    "for i in range(0,10):\n",
    "    n+=i\n",
    "    print(n,end=\" \")"
   ]
  },
  {
   "cell_type": "code",
   "execution_count": null,
   "metadata": {},
   "outputs": [
    {
     "name": "stdout",
     "output_type": "stream",
     "text": [
      "0 1 2 3 4 5 6 7 8 9 "
     ]
    }
   ],
   "source": [
    "for i in range(0,10,1):\n",
    "    print(i,end=\" \")"
   ]
  },
  {
   "cell_type": "markdown",
   "metadata": {},
   "source": [
    "## 12. Write a short program that prints the numbers 1 to 10 using a for loop. Then write an equivalent program that prints the numbers 1 to 10 using a while loop."
   ]
  },
  {
   "cell_type": "code",
   "execution_count": null,
   "metadata": {},
   "outputs": [
    {
     "name": "stdout",
     "output_type": "stream",
     "text": [
      "For Loop\n",
      "1 2 3 4 5 6 7 8 9 10 \n",
      "\n",
      "While Loop\n",
      "1 2 3 4 5 6 7 8 9 10 "
     ]
    }
   ],
   "source": [
    "print(\"For Loop\")\n",
    "for i in range(1,11):\n",
    "    print(i,end=\" \")\n",
    "print('\\n')\n",
    "print(\"While Loop\")\n",
    "i = 1\n",
    "while i<= 10:\n",
    "    print(i,end=\" \")\n",
    "    i+=1"
   ]
  },
  {
   "cell_type": "markdown",
   "metadata": {},
   "source": [
    "## 13. If you had a function named bacon() inside a module named spam, how would you call it after importing spam?\n",
    "* Ans: spam.bacon()"
   ]
  }
 ],
 "metadata": {
  "kernelspec": {
   "display_name": "Python 3.10.0 64-bit",
   "language": "python",
   "name": "python3"
  },
  "language_info": {
   "codemirror_mode": {
    "name": "ipython",
    "version": 3
   },
   "file_extension": ".py",
   "mimetype": "text/x-python",
   "name": "python",
   "nbconvert_exporter": "python",
   "pygments_lexer": "ipython3",
   "version": "3.10.0"
  },
  "orig_nbformat": 4,
  "vscode": {
   "interpreter": {
    "hash": "369f2c481f4da34e4445cda3fffd2e751bd1c4d706f27375911949ba6bb62e1c"
   }
  }
 },
 "nbformat": 4,
 "nbformat_minor": 2
}
