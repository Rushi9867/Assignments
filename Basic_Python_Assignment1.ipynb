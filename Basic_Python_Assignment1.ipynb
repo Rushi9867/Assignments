{
 "cells": [
  {
   "cell_type": "markdown",
   "metadata": {},
   "source": [
    "## 1. In the below elements which of them are values or an expression? eg:- values can be integer or string and expressions will be mathematical operators."
   ]
  },
  {
   "cell_type": "code",
   "execution_count": 1,
   "metadata": {},
   "outputs": [
    {
     "data": {
      "text/plain": [
       "\" \\n1.  *      = Expression     \\n2. 'hello'  = Value\\n3. -87.8   = Value\\n4. -       = Value\\n5. /       = Expression\\n6. +\\t     = Expression\\n7. 6       = Value\\n\""
      ]
     },
     "execution_count": 1,
     "metadata": {},
     "output_type": "execute_result"
    }
   ],
   "source": [
    "''' \n",
    "1.  *      = Expression     \n",
    "2. 'hello'  = Value\n",
    "3. -87.8   = Value\n",
    "4. -       = Value\n",
    "5. /       = Expression\n",
    "6. +\t     = Expression\n",
    "7. 6       = Value\n",
    "'''"
   ]
  },
  {
   "cell_type": "markdown",
   "metadata": {},
   "source": [
    "## 2. What is the difference between string and variable?\n",
    "1. String is a type of information we would store in a variable. string is a value reprenting text. (eg : 'My name is Khan')\n",
    "2. variable is a store of information.Variable is a name that can refer to any value. (eg: X = 'My name is Khan')"
   ]
  },
  {
   "cell_type": "markdown",
   "metadata": {},
   "source": [
    "## 3. Describe three different data types.\n",
    "In python data types categorized into two ypes first is mutable data type and second is immutable data type \n",
    "1. Mutable Data Types: List,Set,Dictionary,User-Defined Classes\n",
    "* List : The list data type is the most generic Python data type.Lists can consist of a collection of mixed data types,stored by relative positions.List represented in bracket'[]'.\n",
    "eg: L = [34,67,'Hi',78+5j]\n",
    "\n",
    "* Set : The set data type can be considered as an unordered collection of data without any duplicate items. List is represented in curly braces'{}'.\n",
    "eg: S= {4,5,7,22,3,6,}\n",
    "\n",
    "* Dictionary : Dictionaries store multiple objects,but unlike lists,in dictionaries,the objects are stored by keys and values in pairs. dictionary represented in curly braces with key and value'{'key':'value'}\n",
    "eg: D = {'name':'Tony','Sirname':'Stark','Company':'Stark Industry'}\n",
    "\n",
    "2. Immutable Data Types: String, Tuples ,Numbers,Integer ,Float,Decimal,Bool,Range.\n",
    "* String : String is used to store textual information.String is represented in quatation marks ('' ,\" \").\n",
    "eg: S = \"My name is Tony Stark\"\n",
    "\n",
    "* Tuples : Tuples are one among the immutable Python data types that can store values of mixed data types. They are basically a list that cannot be changed.Tuple is represented in parenthesis '()'.\n",
    "eg: T = (4,65,92,42,\"hdg\")\n",
    "\n",
    "* Numbers: The number data type in Python is used to store numerical values. It is used to carry out normal mathematical operations"
   ]
  },
  {
   "cell_type": "markdown",
   "metadata": {},
   "source": [
    "## 4. What is an expression made up of? What do all expressions do?\n",
    "An expression is a combination of operators and operands that is interpreted to produce some other value. In Python, an expression is evaluated as per the precedence of its operators. So that if there is more than one operator in an expression, their precedence decides which operation will be performed first. We have many different types of expressions in Python. \n",
    "1. Constant Expressions:These are the expressions that have constant values only. eg : x= 56+7.8 = 63.8\n",
    "\n",
    "2. Arithmwtic Expressions: An arithmetic expression is a combination of numeric values,operators,and sometimes parenthesis. the result of this type of expression is also a numeric value. eg: x+y,x-y,x*y,x/y,x//y,x%y,x**y\n",
    "\n",
    "3. Integet Expressions: these are the kind of expressions that produce only integer results after all computations and type conversions. eg: a=13,b=12.0, c= a + int(b) = 25"
   ]
  },
  {
   "cell_type": "markdown",
   "metadata": {},
   "source": [
    "## 5. This assignment statements, like spam = 10. What is the difference between an expression and a statement?\n",
    "An expression is a combination of operators and operands that is interpreted to produce some other value. In Python, an expression is evaluated as per the precedence of its operators. So that if there is more than one operator in an expression, their precedence decides which operation will be performed first.\n",
    "eg: 5*4+50-50 is an example of a expression\n",
    "\n",
    "A statement is a unit of code that has an effect, like creating a variable or displaying a value.When we type a statement, the interpreter executes it, which means that it does whatever the statement says. In general, statements don’t have values. A statement is an instruction that a Python interpreter can execute. There are mainly four types of statements in Python, Print statements, Assignment statements, Conditional statements and Looping statements.\n",
    "\n",
    "eg: courseName = 'Yay!! I am going to be a data scientist', spam = 10\n"
   ]
  },
  {
   "cell_type": "markdown",
   "metadata": {},
   "source": [
    "## 6. After running the following code, what does the variable bacon contain?\n",
    "bacon = 22\n",
    "bacon + 1 \n",
    "The variable bacon is set to 22.the expression bacon + 1 does not reassign the value in bacon."
   ]
  },
  {
   "cell_type": "code",
   "execution_count": 1,
   "metadata": {},
   "outputs": [
    {
     "name": "stdout",
     "output_type": "stream",
     "text": [
      "22\n",
      "22\n"
     ]
    }
   ],
   "source": [
    "bacon = 22 \n",
    "print(bacon)\n",
    "bacon + 1\n",
    "print(bacon)"
   ]
  },
  {
   "cell_type": "markdown",
   "metadata": {},
   "source": [
    "## 7. What should the values of the following two terms be?\n",
    "'spam' + 'spamspam'\n",
    "'spam' * 3\n",
    "* Ans: Both expressions evaluate to the string 'spamspamspam' Where as the first expression follows String Concatentation and the second expression follows String Multiplication"
   ]
  },
  {
   "cell_type": "code",
   "execution_count": 2,
   "metadata": {},
   "outputs": [
    {
     "name": "stdout",
     "output_type": "stream",
     "text": [
      "spamspamspam\n",
      "spamspamspam\n"
     ]
    }
   ],
   "source": [
    "print('spam' + 'spamspam')\n",
    "print('spam'*3)"
   ]
  },
  {
   "cell_type": "markdown",
   "metadata": {},
   "source": [
    "## 8. Why is eggs a valid variable name while 100 is invalid?\n",
    "* Ans:  As per python,Variable names cannot begin with a number. The python rules for naming a variable are :-\n",
    "\n",
    "1. Variable name must start with a letter or the underscore character.\n",
    "2. Variable name cannot start with a number.\n",
    "3. Variable name can only contain alpha-numeric characters and underscores (A-z, 0-9, & _ ).\n",
    "4. Variable names are case-sensitive (name, Name and NAME are three different variables).\n",
    "5. The reserved words(keywords) cannot be used naming the variable."
   ]
  },
  {
   "cell_type": "code",
   "execution_count": 3,
   "metadata": {},
   "outputs": [
    {
     "name": "stdout",
     "output_type": "stream",
     "text": [
      "Hen\n"
     ]
    }
   ],
   "source": [
    "eggs = 'Hen'\n",
    "print(eggs)"
   ]
  },
  {
   "cell_type": "code",
   "execution_count": 4,
   "metadata": {},
   "outputs": [
    {
     "ename": "SyntaxError",
     "evalue": "cannot assign to literal here. Maybe you meant '==' instead of '='? (2538973939.py, line 1)",
     "output_type": "error",
     "traceback": [
      "\u001b[1;36m  Input \u001b[1;32mIn [4]\u001b[1;36m\u001b[0m\n\u001b[1;33m    100 = 'eggs'\u001b[0m\n\u001b[1;37m    ^\u001b[0m\n\u001b[1;31mSyntaxError\u001b[0m\u001b[1;31m:\u001b[0m cannot assign to literal here. Maybe you meant '==' instead of '='?\n"
     ]
    }
   ],
   "source": [
    "100 = 'eggs'\n",
    "print(100)"
   ]
  },
  {
   "cell_type": "markdown",
   "metadata": {},
   "source": [
    "## 9. What three functions can be used to get the integer, floating-point number, or string version of a value?\n",
    "* Ans: The int(),float(),and str() functions will evaluate to the integer,floating-point number,string version of the value passed to them."
   ]
  },
  {
   "cell_type": "code",
   "execution_count": 5,
   "metadata": {},
   "outputs": [
    {
     "name": "stdout",
     "output_type": "stream",
     "text": [
      "56\n",
      "78.0\n",
      "45.78\n"
     ]
    }
   ],
   "source": [
    "print(int(56.0))\n",
    "print(float(78))\n",
    "print(str(45.78))"
   ]
  },
  {
   "cell_type": "markdown",
   "metadata": {},
   "source": [
    "## 10. Why does this expression cause an error? How can you fix it?\n",
    "'I have eaten ' + 99 + ' burritos.'\n",
    "* Ans: This cause of error is 99.because 99 is not a string. 99 must be typecasted to a string to fix this error. The correct way of representing is mentioned below:"
   ]
  },
  {
   "cell_type": "code",
   "execution_count": 7,
   "metadata": {},
   "outputs": [
    {
     "name": "stdout",
     "output_type": "stream",
     "text": [
      "I have eaten 99 burritos\n"
     ]
    }
   ],
   "source": [
    "print('I have eaten '+str(99)+' burritos')"
   ]
  }
 ],
 "metadata": {
  "kernelspec": {
   "display_name": "Python 3.10.0 64-bit",
   "language": "python",
   "name": "python3"
  },
  "language_info": {
   "codemirror_mode": {
    "name": "ipython",
    "version": 3
   },
   "file_extension": ".py",
   "mimetype": "text/x-python",
   "name": "python",
   "nbconvert_exporter": "python",
   "pygments_lexer": "ipython3",
   "version": "3.10.0"
  },
  "orig_nbformat": 4,
  "vscode": {
   "interpreter": {
    "hash": "369f2c481f4da34e4445cda3fffd2e751bd1c4d706f27375911949ba6bb62e1c"
   }
  }
 },
 "nbformat": 4,
 "nbformat_minor": 2
}
