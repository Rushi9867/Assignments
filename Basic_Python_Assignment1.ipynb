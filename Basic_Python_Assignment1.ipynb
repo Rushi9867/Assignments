{
 "cells": [
  {
   "cell_type": "markdown",
   "metadata": {},
   "source": [
    "## 1. In the below elements which of them are values or an expression? eg:- values can be integer or string and expressions will be mathematical operators."
   ]
  },
  {
   "cell_type": "code",
   "execution_count": 1,
   "metadata": {},
   "outputs": [
    {
     "data": {
      "text/plain": [
       "\" \\n1.  *      = Expression     \\n2. 'hello'  = Value\\n3. -87.8   = Value\\n4. -       = Value\\n5. /       = Expression\\n6. +\\t     = Expression\\n7. 6       = Value\\n\""
      ]
     },
     "execution_count": 1,
     "metadata": {},
     "output_type": "execute_result"
    }
   ],
   "source": [
    "''' \n",
    "1.  *      = Expression     \n",
    "2. 'hello'  = Value\n",
    "3. -87.8   = Value\n",
    "4. -       = Value\n",
    "5. /       = Expression\n",
    "6. +\t     = Expression\n",
    "7. 6       = Value\n",
    "'''"
   ]
  },
  {
   "cell_type": "markdown",
   "metadata": {},
   "source": [
    "## 2. What is the difference between string and variable?\n",
    "1. String is a type of information we would store in a variable. string is a value reprenting text. (eg : 'My name is Khan')\n",
    "2. variable is a store of information.Variable is a name that can refer to any value. (eg: X = 'My name is Khan')"
   ]
  },
  {
   "cell_type": "markdown",
   "metadata": {},
   "source": [
    "## 3. Describe three different data types.\n",
    "In python data types categorized into two ypes first is mutable data type and second is immutable data type \n",
    "1. Mutable Data Types: List,Set,Dictionary,User-Defined Classes\n",
    "* List : The list data type is the most generic Python data type.Lists can consist of a collection of mixed data types,stored by relative positions.List represented in bracket'[]'.\n",
    "eg: L = [34,67,'Hi',78+5j]\n",
    "\n",
    "* Set : The set data type can be considered as an unordered collection of data without any duplicate items. List is represented in curly braces'{}'.\n",
    "eg: S= {4,5,7,22,3,6,}\n",
    "\n",
    "* Dictionary : Dictionaries store multiple objects,but unlike lists,in dictionaries,the objects are stored by keys and values in pairs. dictionary represented in curly braces with key and value'{'key':'value'}\n",
    "eg: D = {'name':'Tony','Sirname':'Stark','Company':'Stark Industry'}\n",
    "\n",
    "2. Immutable Data Types: String, Tuples ,Numbers,Integer ,Float,Decimal,Bool,Range.\n",
    "* String : String is used to store textual information.String is represented in quatation marks ('' ,\" \").\n",
    "eg: S = \"My name is Tony Stark\"\n",
    "\n",
    "* Tuples : Tuples are one among the immutable Python data types that can store values of mixed data types. They are basically a list that cannot be changed.Tuple is represented in parenthesis '()'.\n",
    "eg: T = (4,65,92,42,\"hdg\")\n",
    "\n",
    "* Numbers: The number data type in Python is used to store numerical values. It is used to carry out normal mathematical operations"
   ]
  },
  {
   "cell_type": "markdown",
   "metadata": {},
   "source": [
    "## 4. What is an expression made up of? What do all expressions do?\n",
    "\n"
   ]
  },
  {
   "cell_type": "markdown",
   "metadata": {},
   "source": [
    "5. This assignment statements, like spam = 10. What is the difference between an expression and a statement?\n"
   ]
  },
  {
   "cell_type": "markdown",
   "metadata": {},
   "source": [
    "6. After running the following code, what does the variable bacon contain?\n",
    "bacon = 22\n",
    "bacon + 1\n",
    "\n"
   ]
  },
  {
   "cell_type": "markdown",
   "metadata": {},
   "source": [
    "7. What should the values of the following two terms be?\n",
    "'spam' + 'spamspam'\n",
    "'spam' * 3\n",
    "\n"
   ]
  },
  {
   "cell_type": "markdown",
   "metadata": {},
   "source": [
    "8. Why is eggs a valid variable name while 100 is invalid?\n"
   ]
  },
  {
   "cell_type": "markdown",
   "metadata": {},
   "source": [
    "9. What three functions can be used to get the integer, floating-point number, or string version of a value?\n",
    "10. Why does this expression cause an error? How can you fix it?\n",
    "'I have eaten ' + 99 + ' burritos.'"
   ]
  },
  {
   "cell_type": "code",
   "execution_count": null,
   "metadata": {},
   "outputs": [],
   "source": []
  }
 ],
 "metadata": {
  "kernelspec": {
   "display_name": "Python 3.10.0 64-bit",
   "language": "python",
   "name": "python3"
  },
  "language_info": {
   "codemirror_mode": {
    "name": "ipython",
    "version": 3
   },
   "file_extension": ".py",
   "mimetype": "text/x-python",
   "name": "python",
   "nbconvert_exporter": "python",
   "pygments_lexer": "ipython3",
   "version": "3.10.0"
  },
  "orig_nbformat": 4,
  "vscode": {
   "interpreter": {
    "hash": "369f2c481f4da34e4445cda3fffd2e751bd1c4d706f27375911949ba6bb62e1c"
   }
  }
 },
 "nbformat": 4,
 "nbformat_minor": 2
}
