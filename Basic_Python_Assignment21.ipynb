{
 "cells": [
  {
   "cell_type": "markdown",
   "metadata": {},
   "source": [
    "### 1. Add the current date to the text file today.txt as a string."
   ]
  },
  {
   "cell_type": "code",
   "execution_count": 1,
   "metadata": {},
   "outputs": [
    {
     "name": "stdout",
     "output_type": "stream",
     "text": [
      "15-09-2022\n"
     ]
    }
   ],
   "source": [
    "import datetime\n",
    "file = open('today.txt','w')\n",
    "file.write(datetime.datetime.now().strftime(\"%d-%m-%Y\"))\n",
    "file.close()\n",
    "file = open('today.txt','r')\n",
    "print(file.read())\n",
    "file.close()"
   ]
  },
  {
   "cell_type": "markdown",
   "metadata": {},
   "source": [
    "### 2. Read the text file today.txt into the string today_string"
   ]
  },
  {
   "cell_type": "code",
   "execution_count": 2,
   "metadata": {},
   "outputs": [
    {
     "name": "stdout",
     "output_type": "stream",
     "text": [
      "15-09-2022\n"
     ]
    }
   ],
   "source": [
    "file = open('today.txt','r')\n",
    "today_string = file.read()\n",
    "print(today_string)"
   ]
  },
  {
   "cell_type": "markdown",
   "metadata": {},
   "source": [
    "### 3. Parse the date from today_string."
   ]
  },
  {
   "cell_type": "code",
   "execution_count": 3,
   "metadata": {},
   "outputs": [
    {
     "name": "stdout",
     "output_type": "stream",
     "text": [
      "2022-09-15 00:00:00\n"
     ]
    }
   ],
   "source": [
    "from datetime import datetime\n",
    "parsed_data = datetime.strptime(today_string, '%d-%m-%Y')\n",
    "print(parsed_data)"
   ]
  },
  {
   "cell_type": "markdown",
   "metadata": {},
   "source": [
    "### 4. List the files in your current directory"
   ]
  },
  {
   "cell_type": "code",
   "execution_count": 4,
   "metadata": {},
   "outputs": [
    {
     "name": "stdout",
     "output_type": "stream",
     "text": [
      "Basic_Python_Assignment1.ipynb\n",
      "Basic_Python_Assignment10.ipynb\n",
      "Basic_Python_Assignment11.ipynb\n",
      "Basic_Python_Assignment12.ipynb\n",
      "Basic_Python_Assignment13.ipynb\n",
      "Basic_Python_Assignment14.ipynb\n",
      "Basic_Python_Assignment15.ipynb\n",
      "Basic_Python_Assignment16.ipynb\n",
      "Basic_Python_Assignment17.ipynb\n",
      "Basic_Python_Assignment18.ipynb\n",
      "Basic_Python_Assignment19.ipynb\n",
      "Basic_Python_Assignment2.ipynb\n",
      "Basic_Python_Assignment20.ipynb\n",
      "Basic_Python_Assignment21.ipynb\n",
      "Basic_Python_Assignment3.ipynb\n",
      "Basic_Python_Assignment4.ipynb\n",
      "Basic_Python_Assignment5.ipynb\n",
      "Basic_Python_Assignment6.ipynb\n",
      "Basic_Python_Assignment7.ipynb\n",
      "Basic_Python_Assignment8.ipynb\n",
      "Basic_Python_Assignmnt9.ipynb\n",
      "books.csv\n",
      "books.db\n",
      "Test.csv\n",
      "test.txt\n",
      "today.txt\n",
      "zoo.py\n",
      "COMMIT_EDITMSG\n",
      "config\n",
      "description\n",
      "FETCH_HEAD\n",
      "HEAD\n",
      "index\n",
      "ORIG_HEAD\n",
      "applypatch-msg.sample\n",
      "commit-msg.sample\n",
      "fsmonitor-watchman.sample\n",
      "post-update.sample\n",
      "pre-applypatch.sample\n",
      "pre-commit.sample\n",
      "pre-merge-commit.sample\n",
      "pre-push.sample\n",
      "pre-rebase.sample\n",
      "pre-receive.sample\n",
      "prepare-commit-msg.sample\n",
      "push-to-checkout.sample\n",
      "update.sample\n",
      "exclude\n",
      "HEAD\n",
      "master\n",
      "master\n",
      "0c2a6a6b318fca5313ae1e4fe423e09c86b86f\n",
      "ac942fd84c90db99bbb4024975fdfe0127a87e\n",
      "72e84a627ed7417895793ba1821967757f461e\n",
      "0e03a586cb5746ab240014dd18ace4a8024143\n",
      "14dc1d25899423e5061b94b2d1fc8231df9881\n",
      "1e61bb5caebd4acce3e2852327a99bef782f0e\n",
      "b1fe0d0375a36ca896c5434c99210d3d363c7b\n",
      "0152d30c24d848539a2a67b7208a93ecead387\n",
      "9afa0d6eaf54462e3b081f3283083c7a018e4f\n",
      "f30a76460a75127c4f153ea9af7b7c8453612c\n",
      "6fd773a450c4ad2e2576e0413391524e73d181\n",
      "621b5915beae2e511d197b74b720541ff8f81e\n",
      "9cae7c17b6692c0989a3b6925e649b979b5690\n",
      "ce0d4ead6ac7aab0be8b1812a1fbf4133881f6\n",
      "c690faf394a67375cfecf0453ccb9e9826c10c\n",
      "9a65fdff3b5df481372bb8c64791aa970315ab\n",
      "5e224c8e7d495fc5ad25df1b38e6e425e29dd5\n",
      "d028e12d1c45198aec626bdffff3ccf0f24811\n",
      "b3ce8fb69491dcffb2563393d639295ca5f196\n",
      "15afb9fa6cbfed84128ae8a17c846eb87a86f9\n",
      "ea77d1abf90b3d94f2b33f294ad8d5d14eb949\n",
      "91d85729f95a7b673f5abf12142a7f984bdf0d\n",
      "7692aa863f7b32339c8d94a6c5a35a90ab5710\n",
      "98daecd1efb505a16d867673379d44f471d0cd\n",
      "ba56788d8f665089370e67d4f7989f192f84e0\n",
      "b30d9bc657e6cb7ee201a777d9ab055f978da1\n",
      "2ac9e66e522ec49e00eeb2b7ac3c2db628057b\n",
      "f306e24298f6a0284adfac57f352d8f07018a7\n",
      "60b779817052e463aaec95a75015dd598a27c8\n",
      "f12ac4daa3a1208d0b6870e723120e168cf8a9\n",
      "21ae5cc7b96ebbe847bdef190aa8ad128177eb\n",
      "0933d8074c35459b5f6f27519c6792634a12ed\n",
      "8fd2a88da8c14902617b3622b566b9f751d145\n",
      "d9e52e2ae3b826713fc7381d9d69451c938d45\n",
      "7009a1b4da2bc6b3fa41b839c5ec57eb451b41\n",
      "602ec90aea96bb00d164d0660232fc79ff3a0d\n",
      "68c5ad2915f3e3544b4416322fa707782b0dff\n",
      "d522bd376cfd630b1f2b817cf71810b82068fa\n",
      "198c50a8f874fbecffcb6199f0e59012d9e002\n",
      "b7b9728376b485db507eb1441eb576409f7f6d\n",
      "26fb04f3f60ff6d609dd9fca62fecca0c864df\n",
      "e94b13e61bef33368db8732a5956f4f7ffe014\n",
      "755696d3185b7541c3b93cb1d0898d79295de2\n",
      "32620694d720cb540bbdb7efd888c63c5d0c90\n",
      "5cb3cdaf9a66257d9a6374d60af011c65f0b83\n",
      "0bc1aa6f0b5bdc0679fa4cf9c992dd3e8d4845\n",
      "7eccbf3475d87c3a69ff2fe78220ff673ffda2\n",
      "a624fd478406e89cfac147b2e2e5ce2aae0643\n",
      "778c665aef7e7e087b370267f56df5f39d7bd2\n",
      "eafadd7d4e6d6fc973a421e7aaadad5d644c56\n",
      "a76f1289b6dacd8b56e675da7390dd1f8baed2\n",
      "0163401418bc19c82f826aae7a92bac874ef1c\n",
      "4db0b6bc86d557014fdf3f97053be08a158be1\n",
      "2cdffea861d21d34fb92ad3b5d1454a425c7e0\n",
      "265f0b82b7f0d6e8b1d311046300f89eb0e4ee\n",
      "69fa680550ad2d75beeef6e566b094ac12311e\n",
      "8441977e72311a08c25e683704fc39edb70bb9\n",
      "0ddbf46faaded61e85a7765067999caf2a93b4\n",
      "95248139ba254b04fae2f54dd00ce74993f0d2\n",
      "a17dd389bac735395a3eb2b7ea5a7b6931b61a\n",
      "a52ff9c993297d0b32b9f2d0b71a92fb3f0801\n",
      "86b299f023ace6afe8a0a290238b061111e744\n",
      "357134f9db2a02f7fd9eeff3d32a8b7ca0cde9\n",
      "9865a81532d6b9275688adad91a57fc83d4ea5\n",
      "00bce5fe0d91234bf091558940dd749d3c7fc8\n",
      "7ca38da00bd705162351069f16def3a71d122b\n",
      "901aa7871723b8bbf0f062cae2d4472ae28b1a\n",
      "d62fc5c1a9197ff76da3d29486b781ab56a830\n",
      "95b11ed02d2ff064f17f8a3b446d176cd2f65d\n",
      "336f28f772f15fe2e90d630abb24e267128c07\n",
      "5e236657e5ced031f62b2ae5eb472636ca1c9f\n",
      "f430e22e7078d49d9e17a46ef8af02e6cde0c5\n",
      "3e239354ad7848226c9f72ab8efab275b1278c\n",
      "158553929279756c86cc76a5d5798dd5410637\n",
      "047eabde7324f7cac3295e7073391ac2fb0e2c\n",
      "8ff15367ab9b262832bebfec593a1bf9242d82\n",
      "4bb0ecd35bd38e3bad7074f5bbe74ceacf2837\n",
      "142080c78cf504f7b1747444b487e4c716374e\n",
      "9de29bb2d1d6434b8b29ae775ad8c2e48c5391\n",
      "4a23d76fc290bc9d43ec58826e586160300fce\n",
      "8d44359e0d7774185fa31bd3f1df1ee4a5b8f2\n",
      "e787dc982eb7ebbaab00ee5788434662674f8a\n",
      "8620d2d2eea8c78fcd87d0acb3bedf2569cbd9\n",
      "d62e71b2d19b659d3269457b905e9aff5aef8a\n",
      "9447e97a5e53072ae4d9ddab2010003c76f641\n",
      "17ff0a3eb566222f5711a1828327f40c63a221\n",
      "082e8f77a39ad9f4bb93828ad29261f23c2b86\n",
      "ddf8bb775d43aaebf97ad0379cc473f25dacbe\n",
      "master\n",
      "master\n",
      "zoo.cpython-310.pyc\n"
     ]
    }
   ],
   "source": [
    "import os\n",
    "for folders, subfolders, files in os.walk(os.getcwd()):\n",
    "    for file in files:\n",
    "        print(file)"
   ]
  },
  {
   "cell_type": "markdown",
   "metadata": {},
   "source": [
    "### 5. Create a list of all of the files in your parent directory (minimum five files should be available)."
   ]
  },
  {
   "cell_type": "code",
   "execution_count": 5,
   "metadata": {},
   "outputs": [
    {
     "data": {
      "text/plain": [
       "['.git',\n",
       " 'Basic_Python_Assignment1.ipynb',\n",
       " 'Basic_Python_Assignment10.ipynb',\n",
       " 'Basic_Python_Assignment11.ipynb',\n",
       " 'Basic_Python_Assignment12.ipynb',\n",
       " 'Basic_Python_Assignment13.ipynb',\n",
       " 'Basic_Python_Assignment14.ipynb',\n",
       " 'Basic_Python_Assignment15.ipynb',\n",
       " 'Basic_Python_Assignment16.ipynb',\n",
       " 'Basic_Python_Assignment17.ipynb',\n",
       " 'Basic_Python_Assignment18.ipynb',\n",
       " 'Basic_Python_Assignment19.ipynb',\n",
       " 'Basic_Python_Assignment2.ipynb',\n",
       " 'Basic_Python_Assignment20.ipynb',\n",
       " 'Basic_Python_Assignment21.ipynb',\n",
       " 'Basic_Python_Assignment3.ipynb',\n",
       " 'Basic_Python_Assignment4.ipynb',\n",
       " 'Basic_Python_Assignment5.ipynb',\n",
       " 'Basic_Python_Assignment6.ipynb',\n",
       " 'Basic_Python_Assignment7.ipynb',\n",
       " 'Basic_Python_Assignment8.ipynb',\n",
       " 'Basic_Python_Assignmnt9.ipynb',\n",
       " 'books.csv',\n",
       " 'books.db',\n",
       " 'Test.csv',\n",
       " 'test.txt',\n",
       " 'today.txt',\n",
       " 'zoo.py',\n",
       " '__pycache__']"
      ]
     },
     "execution_count": 5,
     "metadata": {},
     "output_type": "execute_result"
    }
   ],
   "source": [
    "import os \n",
    "os.listdir()"
   ]
  },
  {
   "cell_type": "markdown",
   "metadata": {},
   "source": [
    "### 6. Use multiprocessing to create three separate processes. Make each one wait a random number of seconds between one and five, print the current time, and then exit."
   ]
  },
  {
   "cell_type": "code",
   "execution_count": 8,
   "metadata": {},
   "outputs": [],
   "source": [
    "import multiprocessing\n",
    "import time \n",
    "import random\n",
    "import datetime\n",
    "\n",
    "def procOne():\n",
    "    print(f'Proc_one_Starttime -> {datetime.datetime.now()}')\n",
    "    time.sleep(random.randint(1,5))\n",
    "    print(f'Proc_one_Endtime -> {datetime.datetime.now()}')\n",
    "    \n",
    "def procTwo():\n",
    "    print(f'Proc_two_Starttime -> {datetime.datetime.now()}')\n",
    "    time.sleep(random.randint(1,5))\n",
    "    print(f'Proc_two_Endtime -> {datetime.datetime.now()}')\n",
    "\n",
    "def procThree():\n",
    "    print(f'Proc_two_Starttime -> {datetime.datetime.now()}')\n",
    "    time.sleep(random.randint(1,5))\n",
    "    print(f'Proc_two_Endtime -> {datetime.datetime.now()}')\n",
    "    \n",
    "if __name__ == \"__main__\":    \n",
    "    p1 = multiprocessing.Process(target=procOne)\n",
    "    p2 = multiprocessing.Process(target=procTwo)\n",
    "    p3 = multiprocessing.Process(target=procThree)\n",
    "\n",
    "    p1.start()\n",
    "    p2.start()\n",
    "    p3.start()\n",
    "\n",
    "    p1.join()\n",
    "    p2.join()\n",
    "    p3.join()"
   ]
  },
  {
   "cell_type": "markdown",
   "metadata": {},
   "source": [
    "### 7. Create a date object of your day of birth."
   ]
  },
  {
   "cell_type": "code",
   "execution_count": 9,
   "metadata": {},
   "outputs": [
    {
     "name": "stdout",
     "output_type": "stream",
     "text": [
      "2000-03-22 00:00:00 <class 'datetime.datetime'>\n"
     ]
    }
   ],
   "source": [
    "from datetime import datetime\n",
    "my_dob = datetime.strptime('22/03/2000','%d/%m/%Y')\n",
    "print(my_dob, type(my_dob))"
   ]
  },
  {
   "cell_type": "markdown",
   "metadata": {},
   "source": [
    "### 8. What day of the week was your day of birth?"
   ]
  },
  {
   "cell_type": "code",
   "execution_count": 10,
   "metadata": {},
   "outputs": [
    {
     "data": {
      "text/plain": [
       "'Wednesday'"
      ]
     },
     "execution_count": 10,
     "metadata": {},
     "output_type": "execute_result"
    }
   ],
   "source": [
    "from datetime import datetime\n",
    "my_dob = datetime(2000,3,22)\n",
    "my_dob.strftime(\"%A\")"
   ]
  },
  {
   "cell_type": "markdown",
   "metadata": {},
   "source": [
    "### 9. When will you be (or when were you) 10,000 days old?"
   ]
  },
  {
   "cell_type": "code",
   "execution_count": 11,
   "metadata": {},
   "outputs": [
    {
     "data": {
      "text/plain": [
       "datetime.datetime(1972, 11, 4, 0, 0)"
      ]
     },
     "execution_count": 11,
     "metadata": {},
     "output_type": "execute_result"
    }
   ],
   "source": [
    "from datetime import datetime, timedelta\n",
    "my_dob = datetime.strptime(\"22/03/2000\",'%d/%m/%Y')\n",
    "future_date = my_dob-timedelta(10000)\n",
    "future_date"
   ]
  }
 ],
 "metadata": {
  "kernelspec": {
   "display_name": "Python 3.10.0 64-bit",
   "language": "python",
   "name": "python3"
  },
  "language_info": {
   "codemirror_mode": {
    "name": "ipython",
    "version": 3
   },
   "file_extension": ".py",
   "mimetype": "text/x-python",
   "name": "python",
   "nbconvert_exporter": "python",
   "pygments_lexer": "ipython3",
   "version": "3.10.0"
  },
  "orig_nbformat": 4,
  "vscode": {
   "interpreter": {
    "hash": "369f2c481f4da34e4445cda3fffd2e751bd1c4d706f27375911949ba6bb62e1c"
   }
  }
 },
 "nbformat": 4,
 "nbformat_minor": 2
}
